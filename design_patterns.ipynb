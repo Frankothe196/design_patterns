{
 "cells": [
  {
   "cell_type": "markdown",
   "id": "bc9eb8ef",
   "metadata": {},
   "source": [
    "# Design Patterns\n",
    "Some introduction text, formatted in heading 2 style"
   ]
  },
  {
   "cell_type": "markdown",
   "id": "75a60198",
   "metadata": {},
   "source": [
    "# Table of contents\n",
    "1. [Types of Patterns](#content1)\n",
    "\n",
    "      i. [Creational Patterns](#content1.1)\n",
    "      \n",
    "     ii. [Structural Patterns](#content1.2)\n",
    "     \n",
    "    iii. [Behavioural Patters](#content1.3)\n",
    "    \n",
    "    \n",
    "2. [Creational Patterns](#content2)\n",
    "\n",
    "      i. [Factory Method](#content2.1)\n",
    "      \n",
    "     ii. [Singleton](#content2.2)\n",
    "     \n",
    "    iii. [Builder](#content2.3)\n",
    "    \n",
    "     iv. [Prototype](#content2.4)\n",
    "     \n",
    "     \n",
    "3. [Structural Patterns](#content3)\n",
    "\n",
    "      i. [Adapter](#content3.1)\n",
    "      \n",
    "     ii. [Bridge](#content3.2)\n",
    "     \n",
    "    iii. [Facade](#content3.3)\n",
    "    \n",
    "     iv. [Proxy](#content3.4)\n",
    "     \n",
    "     \n",
    "3. [Behavioural Patters](#content4)\n",
    "\n",
    "      i. [Template Method](#content4.1)\n",
    "      \n",
    "     ii. [Command](#content4.2)\n",
    "     \n",
    "    iii. [Observer](#content4.3)\n",
    "    \n",
    "     iv. [Strategy](#content4.3)\n",
    "     \n",
    "      v. [Visitors](#content4.4)\n",
    "      \n",
    "     vi. [Iterator](#content4.5)"
   ]
  },
  {
   "cell_type": "markdown",
   "id": "95c985f0",
   "metadata": {},
   "source": [
    "## Creational Patterns <a name=\"content2\"></a>\n",
    "The first paragraph text"
   ]
  },
  {
   "cell_type": "markdown",
   "id": "55f3a9da",
   "metadata": {},
   "source": [
    "### Factory Method <a name=\"content2.1\"></a>\n",
    "The first paragraph text"
   ]
  },
  {
   "cell_type": "code",
   "execution_count": null,
   "id": "df66a01d",
   "metadata": {},
   "outputs": [],
   "source": [
    "#Factory Method Code"
   ]
  },
  {
   "cell_type": "markdown",
   "id": "bd3a15d0",
   "metadata": {},
   "source": [
    "## Structural Patterns <a name=\"content3\"></a>\n",
    "The first paragraph text"
   ]
  },
  {
   "cell_type": "markdown",
   "id": "31974c86",
   "metadata": {},
   "source": [
    "## Behavioural Patterns <a name=\"content4\"></a>\n",
    "The first paragraph text"
   ]
  },
  {
   "cell_type": "code",
   "execution_count": null,
   "id": "3fef9f61",
   "metadata": {},
   "outputs": [],
   "source": []
  }
 ],
 "metadata": {
  "kernelspec": {
   "display_name": "Python 3 (ipykernel)",
   "language": "python",
   "name": "python3"
  },
  "language_info": {
   "codemirror_mode": {
    "name": "ipython",
    "version": 3
   },
   "file_extension": ".py",
   "mimetype": "text/x-python",
   "name": "python",
   "nbconvert_exporter": "python",
   "pygments_lexer": "ipython3",
   "version": "3.10.6"
  }
 },
 "nbformat": 4,
 "nbformat_minor": 5
}
